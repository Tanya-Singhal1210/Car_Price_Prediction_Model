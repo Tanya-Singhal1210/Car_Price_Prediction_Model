{
 "cells": [
  {
   "cell_type": "code",
   "execution_count": 20,
   "id": "da2af7b1-57ff-4075-9995-6a16dc69a265",
   "metadata": {},
   "outputs": [],
   "source": [
    "import pandas as pf\n",
    "import matplotlib.pyplot as plt\n",
    "import seaborn as sns\n",
    "from sklearn.preprocessing import LabelEncoder"
   ]
  },
  {
   "cell_type": "code",
   "execution_count": 12,
   "id": "a3466fd6-b5b2-49bf-a5de-d2e6cda3d968",
   "metadata": {},
   "outputs": [],
   "source": [
    "dataset = pd.read_csv('car data.csv')"
   ]
  },
  {
   "cell_type": "code",
   "execution_count": 30,
   "id": "ca63e483-75fb-4345-9d7a-5c52ab710e6f",
   "metadata": {},
   "outputs": [
    {
     "data": {
      "text/html": [
       "<div>\n",
       "<style scoped>\n",
       "    .dataframe tbody tr th:only-of-type {\n",
       "        vertical-align: middle;\n",
       "    }\n",
       "\n",
       "    .dataframe tbody tr th {\n",
       "        vertical-align: top;\n",
       "    }\n",
       "\n",
       "    .dataframe thead th {\n",
       "        text-align: right;\n",
       "    }\n",
       "</style>\n",
       "<table border=\"1\" class=\"dataframe\">\n",
       "  <thead>\n",
       "    <tr style=\"text-align: right;\">\n",
       "      <th></th>\n",
       "      <th>Car_Name</th>\n",
       "      <th>Year</th>\n",
       "      <th>Present_Price</th>\n",
       "      <th>Kms_Driven</th>\n",
       "      <th>Fuel_Type</th>\n",
       "      <th>Seller_Type</th>\n",
       "      <th>Transmission</th>\n",
       "      <th>Owner</th>\n",
       "      <th>Selling_Price</th>\n",
       "    </tr>\n",
       "  </thead>\n",
       "  <tbody>\n",
       "    <tr>\n",
       "      <th>0</th>\n",
       "      <td>90</td>\n",
       "      <td>2014</td>\n",
       "      <td>5.59</td>\n",
       "      <td>27000</td>\n",
       "      <td>2</td>\n",
       "      <td>0</td>\n",
       "      <td>1</td>\n",
       "      <td>0</td>\n",
       "      <td>3.35</td>\n",
       "    </tr>\n",
       "    <tr>\n",
       "      <th>1</th>\n",
       "      <td>93</td>\n",
       "      <td>2013</td>\n",
       "      <td>9.54</td>\n",
       "      <td>43000</td>\n",
       "      <td>1</td>\n",
       "      <td>0</td>\n",
       "      <td>1</td>\n",
       "      <td>0</td>\n",
       "      <td>4.75</td>\n",
       "    </tr>\n",
       "    <tr>\n",
       "      <th>2</th>\n",
       "      <td>68</td>\n",
       "      <td>2017</td>\n",
       "      <td>9.85</td>\n",
       "      <td>6900</td>\n",
       "      <td>2</td>\n",
       "      <td>0</td>\n",
       "      <td>1</td>\n",
       "      <td>0</td>\n",
       "      <td>7.25</td>\n",
       "    </tr>\n",
       "    <tr>\n",
       "      <th>3</th>\n",
       "      <td>96</td>\n",
       "      <td>2011</td>\n",
       "      <td>4.15</td>\n",
       "      <td>5200</td>\n",
       "      <td>2</td>\n",
       "      <td>0</td>\n",
       "      <td>1</td>\n",
       "      <td>0</td>\n",
       "      <td>2.85</td>\n",
       "    </tr>\n",
       "    <tr>\n",
       "      <th>4</th>\n",
       "      <td>92</td>\n",
       "      <td>2014</td>\n",
       "      <td>6.87</td>\n",
       "      <td>42450</td>\n",
       "      <td>1</td>\n",
       "      <td>0</td>\n",
       "      <td>1</td>\n",
       "      <td>0</td>\n",
       "      <td>4.60</td>\n",
       "    </tr>\n",
       "  </tbody>\n",
       "</table>\n",
       "</div>"
      ],
      "text/plain": [
       "   Car_Name  Year  Present_Price  Kms_Driven  Fuel_Type  Seller_Type  \\\n",
       "0        90  2014           5.59       27000          2            0   \n",
       "1        93  2013           9.54       43000          1            0   \n",
       "2        68  2017           9.85        6900          2            0   \n",
       "3        96  2011           4.15        5200          2            0   \n",
       "4        92  2014           6.87       42450          1            0   \n",
       "\n",
       "   Transmission  Owner  Selling_Price  \n",
       "0             1      0           3.35  \n",
       "1             1      0           4.75  \n",
       "2             1      0           7.25  \n",
       "3             1      0           2.85  \n",
       "4             1      0           4.60  "
      ]
     },
     "execution_count": 30,
     "metadata": {},
     "output_type": "execute_result"
    }
   ],
   "source": [
    "dataset.head(5)"
   ]
  },
  {
   "cell_type": "code",
   "execution_count": 14,
   "id": "b090e487-e306-4b17-92aa-84b2988c4df2",
   "metadata": {},
   "outputs": [
    {
     "data": {
      "text/plain": [
       "Car_Name         0\n",
       "Year             0\n",
       "Present_Price    0\n",
       "Kms_Driven       0\n",
       "Fuel_Type        0\n",
       "Seller_Type      0\n",
       "Transmission     0\n",
       "Owner            0\n",
       "Selling_Price    0\n",
       "dtype: int64"
      ]
     },
     "execution_count": 14,
     "metadata": {},
     "output_type": "execute_result"
    }
   ],
   "source": [
    "dataset.isnull().sum()"
   ]
  },
  {
   "cell_type": "code",
   "execution_count": null,
   "id": "d8231ac1-7f37-4472-a3c9-b08805a9640c",
   "metadata": {},
   "outputs": [],
   "source": [
    "# There are no missing/null values in dataset."
   ]
  },
  {
   "cell_type": "code",
   "execution_count": 15,
   "id": "63cc7588-2a5c-4e2a-9c34-bcc2d725057e",
   "metadata": {},
   "outputs": [
    {
     "name": "stdout",
     "output_type": "stream",
     "text": [
      "<class 'pandas.core.frame.DataFrame'>\n",
      "RangeIndex: 301 entries, 0 to 300\n",
      "Data columns (total 9 columns):\n",
      " #   Column         Non-Null Count  Dtype  \n",
      "---  ------         --------------  -----  \n",
      " 0   Car_Name       301 non-null    object \n",
      " 1   Year           301 non-null    int64  \n",
      " 2   Present_Price  301 non-null    float64\n",
      " 3   Kms_Driven     301 non-null    int64  \n",
      " 4   Fuel_Type      301 non-null    object \n",
      " 5   Seller_Type    301 non-null    object \n",
      " 6   Transmission   301 non-null    object \n",
      " 7   Owner          301 non-null    int64  \n",
      " 8   Selling_Price  301 non-null    float64\n",
      "dtypes: float64(2), int64(3), object(4)\n",
      "memory usage: 21.3+ KB\n"
     ]
    }
   ],
   "source": [
    "dataset.info()"
   ]
  },
  {
   "cell_type": "markdown",
   "id": "4203b507-9050-44d7-9a8c-c99db3bbbb12",
   "metadata": {},
   "source": [
    "# Car_Name"
   ]
  },
  {
   "cell_type": "code",
   "execution_count": 21,
   "id": "8954ce7f-9c37-49e4-a54e-fe225f30b02d",
   "metadata": {},
   "outputs": [
    {
     "data": {
      "text/plain": [
       "array([90, 93, 68, 96, 92, 95, 68, 91, 68, 68, 62, 68, 68, 76, 73, 76, 76,\n",
       "       76, 96, 93, 63, 85, 93, 63, 96, 92, 92, 92, 63, 68, 90, 90, 92, 76,\n",
       "       73, 93, 73,  0, 63, 93, 65, 63, 93, 73, 89, 68, 90, 96, 76, 68, 81,\n",
       "       81, 86, 81, 86, 71, 77, 71, 78, 81, 71, 77, 81, 81, 81, 80, 86, 81,\n",
       "       71, 71, 80, 71, 71, 80, 77, 78, 71, 70, 71, 81, 71, 79, 86, 86, 86,\n",
       "       67, 88, 71, 80, 78, 71, 86, 86, 81, 71, 71, 86, 71, 71, 81, 49, 56,\n",
       "       42, 11, 46, 43, 40, 48, 48, 46, 42, 48, 41, 44, 46, 46, 46, 49, 46,\n",
       "       49, 17, 48, 45, 46, 47, 47,  6,  4, 32, 60, 32, 58,  6,  6, 51, 14,\n",
       "       37, 20, 32,  7, 37,  5, 57, 57, 12, 51, 20, 60, 15, 15, 52, 26, 16,\n",
       "       16, 61, 31, 54, 60, 38, 31,  8, 52, 16,  7, 28,  1, 25, 51, 34, 28,\n",
       "       59, 25, 13,  2, 35, 22, 39, 30, 53, 39, 23, 27, 33,  9, 14, 50, 55,\n",
       "       36, 21, 29, 14, 10, 24, 19, 18,  3,  1, 36, 10, 33, 14, 84, 82, 83,\n",
       "       75, 82, 97, 82, 84, 82, 83, 74, 72, 84, 82, 94, 75, 75, 94, 94, 75,\n",
       "       84, 84, 94, 94, 83, 82, 83, 94, 84, 94, 94, 74, 82, 82, 94, 75, 72,\n",
       "       94, 75, 94, 97, 97, 84, 94, 94, 84, 94, 83, 84, 72, 69, 66, 69, 69,\n",
       "       66, 69, 69, 69, 64, 69, 66, 64, 87, 64, 87, 64, 69, 66, 69, 69, 69,\n",
       "       69, 87, 66, 69, 69, 69, 87, 69, 66, 69, 69, 69, 66, 87, 87, 64, 69,\n",
       "       69, 64, 66, 87, 69, 64, 69, 69, 66, 69, 69, 66])"
      ]
     },
     "execution_count": 21,
     "metadata": {},
     "output_type": "execute_result"
    }
   ],
   "source": [
    "Car_Name_le = LabelEncoder()\n",
    "Car_Name_le.fit_transform(dataset[\"Car_Name\"])"
   ]
  },
  {
   "cell_type": "code",
   "execution_count": 22,
   "id": "323fe43f-0895-42a7-a32d-6e7dd4708461",
   "metadata": {},
   "outputs": [],
   "source": [
    "dataset['Car_Name'] = Car_Name_le.fit_transform(dataset[\"Car_Name\"])"
   ]
  },
  {
   "cell_type": "markdown",
   "id": "62ef1572-46c4-4827-985f-65f0d5389f52",
   "metadata": {},
   "source": [
    "# Fuel_Type"
   ]
  },
  {
   "cell_type": "code",
   "execution_count": 25,
   "id": "060e1ca4-0f21-4164-9e64-385c2951dc21",
   "metadata": {},
   "outputs": [],
   "source": [
    "Fuel_Type_le = LabelEncoder()\n",
    "dataset['Fuel_Type'] = Fuel_Type_le.fit_transform(dataset[\"Fuel_Type\"])"
   ]
  },
  {
   "cell_type": "markdown",
   "id": "00ce2c0c-cd3c-412a-9fcb-701dea282d98",
   "metadata": {},
   "source": [
    "# Seller_Type"
   ]
  },
  {
   "cell_type": "code",
   "execution_count": 27,
   "id": "c7e1453e-db5d-406c-a4d2-170fa04425b1",
   "metadata": {},
   "outputs": [],
   "source": [
    "Seller_Type_le = LabelEncoder()\n",
    "dataset['Seller_Type'] = Seller_Type_le.fit_transform(dataset[\"Seller_Type\"])"
   ]
  },
  {
   "cell_type": "markdown",
   "id": "d87158b3-e7d9-433d-9d5b-3c1f00a39854",
   "metadata": {},
   "source": [
    "# Transmission"
   ]
  },
  {
   "cell_type": "code",
   "execution_count": 29,
   "id": "9ca459db-6008-4bcf-826d-d2a27a9d2e8b",
   "metadata": {},
   "outputs": [],
   "source": [
    "Transmission_le = LabelEncoder()\n",
    "dataset['Transmission'] = Transmission_le.fit_transform(dataset[\"Transmission\"])"
   ]
  },
  {
   "cell_type": "code",
   "execution_count": null,
   "id": "ab716940-e083-4bdc-b561-d1672a2eee38",
   "metadata": {},
   "outputs": [],
   "source": [
    "# Seperating input columns and output column "
   ]
  },
  {
   "cell_type": "code",
   "execution_count": 32,
   "id": "2d0b6b81-2b97-4b35-88ae-c1b5d03beafb",
   "metadata": {},
   "outputs": [],
   "source": [
    "input_data = dataset.iloc[:,:-1]\n",
    "output_data = dataset[\"Selling_Price\"]"
   ]
  },
  {
   "cell_type": "code",
   "execution_count": null,
   "id": "f7f3d64d-be8e-4f84-9791-9848c0f15772",
   "metadata": {},
   "outputs": [],
   "source": [
    "# Scaling of input data"
   ]
  },
  {
   "cell_type": "code",
   "execution_count": 33,
   "id": "ee85beef-934b-490a-b9d8-d380c9bcec0e",
   "metadata": {},
   "outputs": [],
   "source": [
    "from sklearn.preprocessing import StandardScaler"
   ]
  },
  {
   "cell_type": "code",
   "execution_count": 35,
   "id": "934539c7-194b-488d-9401-756082f49502",
   "metadata": {},
   "outputs": [],
   "source": [
    "ss = StandardScaler()\n",
    "input_data = pd.DataFrame(ss.fit_transform(input_data),columns = input_data.columns)"
   ]
  },
  {
   "cell_type": "code",
   "execution_count": 36,
   "id": "a27a5bf2-7a9a-49fb-8395-f31a792103a1",
   "metadata": {},
   "outputs": [
    {
     "data": {
      "text/html": [
       "<div>\n",
       "<style scoped>\n",
       "    .dataframe tbody tr th:only-of-type {\n",
       "        vertical-align: middle;\n",
       "    }\n",
       "\n",
       "    .dataframe tbody tr th {\n",
       "        vertical-align: top;\n",
       "    }\n",
       "\n",
       "    .dataframe thead th {\n",
       "        text-align: right;\n",
       "    }\n",
       "</style>\n",
       "<table border=\"1\" class=\"dataframe\">\n",
       "  <thead>\n",
       "    <tr style=\"text-align: right;\">\n",
       "      <th></th>\n",
       "      <th>Car_Name</th>\n",
       "      <th>Year</th>\n",
       "      <th>Present_Price</th>\n",
       "      <th>Kms_Driven</th>\n",
       "      <th>Fuel_Type</th>\n",
       "      <th>Seller_Type</th>\n",
       "      <th>Transmission</th>\n",
       "      <th>Owner</th>\n",
       "    </tr>\n",
       "  </thead>\n",
       "  <tbody>\n",
       "    <tr>\n",
       "      <th>0</th>\n",
       "      <td>1.074323</td>\n",
       "      <td>0.128897</td>\n",
       "      <td>-0.236215</td>\n",
       "      <td>-0.256224</td>\n",
       "      <td>0.500183</td>\n",
       "      <td>-0.737285</td>\n",
       "      <td>0.39148</td>\n",
       "      <td>-0.174501</td>\n",
       "    </tr>\n",
       "    <tr>\n",
       "      <th>1</th>\n",
       "      <td>1.191828</td>\n",
       "      <td>-0.217514</td>\n",
       "      <td>0.221505</td>\n",
       "      <td>0.155911</td>\n",
       "      <td>-1.852241</td>\n",
       "      <td>-0.737285</td>\n",
       "      <td>0.39148</td>\n",
       "      <td>-0.174501</td>\n",
       "    </tr>\n",
       "    <tr>\n",
       "      <th>2</th>\n",
       "      <td>0.212627</td>\n",
       "      <td>1.168129</td>\n",
       "      <td>0.257427</td>\n",
       "      <td>-0.773969</td>\n",
       "      <td>0.500183</td>\n",
       "      <td>-0.737285</td>\n",
       "      <td>0.39148</td>\n",
       "      <td>-0.174501</td>\n",
       "    </tr>\n",
       "    <tr>\n",
       "      <th>3</th>\n",
       "      <td>1.309332</td>\n",
       "      <td>-0.910335</td>\n",
       "      <td>-0.403079</td>\n",
       "      <td>-0.817758</td>\n",
       "      <td>0.500183</td>\n",
       "      <td>-0.737285</td>\n",
       "      <td>0.39148</td>\n",
       "      <td>-0.174501</td>\n",
       "    </tr>\n",
       "    <tr>\n",
       "      <th>4</th>\n",
       "      <td>1.152659</td>\n",
       "      <td>0.128897</td>\n",
       "      <td>-0.087890</td>\n",
       "      <td>0.141743</td>\n",
       "      <td>-1.852241</td>\n",
       "      <td>-0.737285</td>\n",
       "      <td>0.39148</td>\n",
       "      <td>-0.174501</td>\n",
       "    </tr>\n",
       "    <tr>\n",
       "      <th>...</th>\n",
       "      <td>...</td>\n",
       "      <td>...</td>\n",
       "      <td>...</td>\n",
       "      <td>...</td>\n",
       "      <td>...</td>\n",
       "      <td>...</td>\n",
       "      <td>...</td>\n",
       "      <td>...</td>\n",
       "    </tr>\n",
       "    <tr>\n",
       "      <th>296</th>\n",
       "      <td>0.251795</td>\n",
       "      <td>0.821718</td>\n",
       "      <td>0.460214</td>\n",
       "      <td>-0.076225</td>\n",
       "      <td>-1.852241</td>\n",
       "      <td>-0.737285</td>\n",
       "      <td>0.39148</td>\n",
       "      <td>-0.174501</td>\n",
       "    </tr>\n",
       "    <tr>\n",
       "      <th>297</th>\n",
       "      <td>0.134290</td>\n",
       "      <td>0.475308</td>\n",
       "      <td>-0.200292</td>\n",
       "      <td>0.593804</td>\n",
       "      <td>0.500183</td>\n",
       "      <td>-0.737285</td>\n",
       "      <td>0.39148</td>\n",
       "      <td>-0.174501</td>\n",
       "    </tr>\n",
       "    <tr>\n",
       "      <th>298</th>\n",
       "      <td>0.251795</td>\n",
       "      <td>-1.603156</td>\n",
       "      <td>0.390687</td>\n",
       "      <td>1.313340</td>\n",
       "      <td>0.500183</td>\n",
       "      <td>-0.737285</td>\n",
       "      <td>0.39148</td>\n",
       "      <td>-0.174501</td>\n",
       "    </tr>\n",
       "    <tr>\n",
       "      <th>299</th>\n",
       "      <td>0.251795</td>\n",
       "      <td>1.168129</td>\n",
       "      <td>0.564504</td>\n",
       "      <td>-0.719876</td>\n",
       "      <td>-1.852241</td>\n",
       "      <td>-0.737285</td>\n",
       "      <td>0.39148</td>\n",
       "      <td>-0.174501</td>\n",
       "    </tr>\n",
       "    <tr>\n",
       "      <th>300</th>\n",
       "      <td>0.134290</td>\n",
       "      <td>0.821718</td>\n",
       "      <td>-0.200292</td>\n",
       "      <td>-0.810958</td>\n",
       "      <td>0.500183</td>\n",
       "      <td>-0.737285</td>\n",
       "      <td>0.39148</td>\n",
       "      <td>-0.174501</td>\n",
       "    </tr>\n",
       "  </tbody>\n",
       "</table>\n",
       "<p>301 rows × 8 columns</p>\n",
       "</div>"
      ],
      "text/plain": [
       "     Car_Name      Year  Present_Price  Kms_Driven  Fuel_Type  Seller_Type  \\\n",
       "0    1.074323  0.128897      -0.236215   -0.256224   0.500183    -0.737285   \n",
       "1    1.191828 -0.217514       0.221505    0.155911  -1.852241    -0.737285   \n",
       "2    0.212627  1.168129       0.257427   -0.773969   0.500183    -0.737285   \n",
       "3    1.309332 -0.910335      -0.403079   -0.817758   0.500183    -0.737285   \n",
       "4    1.152659  0.128897      -0.087890    0.141743  -1.852241    -0.737285   \n",
       "..        ...       ...            ...         ...        ...          ...   \n",
       "296  0.251795  0.821718       0.460214   -0.076225  -1.852241    -0.737285   \n",
       "297  0.134290  0.475308      -0.200292    0.593804   0.500183    -0.737285   \n",
       "298  0.251795 -1.603156       0.390687    1.313340   0.500183    -0.737285   \n",
       "299  0.251795  1.168129       0.564504   -0.719876  -1.852241    -0.737285   \n",
       "300  0.134290  0.821718      -0.200292   -0.810958   0.500183    -0.737285   \n",
       "\n",
       "     Transmission     Owner  \n",
       "0         0.39148 -0.174501  \n",
       "1         0.39148 -0.174501  \n",
       "2         0.39148 -0.174501  \n",
       "3         0.39148 -0.174501  \n",
       "4         0.39148 -0.174501  \n",
       "..            ...       ...  \n",
       "296       0.39148 -0.174501  \n",
       "297       0.39148 -0.174501  \n",
       "298       0.39148 -0.174501  \n",
       "299       0.39148 -0.174501  \n",
       "300       0.39148 -0.174501  \n",
       "\n",
       "[301 rows x 8 columns]"
      ]
     },
     "execution_count": 36,
     "metadata": {},
     "output_type": "execute_result"
    }
   ],
   "source": [
    "input_data"
   ]
  },
  {
   "cell_type": "code",
   "execution_count": null,
   "id": "c6f934c9-539d-4e3e-b4cc-2c81ddf1a550",
   "metadata": {},
   "outputs": [],
   "source": [
    "# Spliting Trained Data and Test Data"
   ]
  },
  {
   "cell_type": "code",
   "execution_count": 37,
   "id": "301b2c6a-1da8-4535-b005-33a82939e2dc",
   "metadata": {},
   "outputs": [],
   "source": [
    "from sklearn.model_selection import train_test_split"
   ]
  },
  {
   "cell_type": "code",
   "execution_count": 38,
   "id": "82780f57-6bc2-4523-9021-9fecec7ca801",
   "metadata": {},
   "outputs": [],
   "source": [
    "x_train, x_test, y_train, y_test = train_test_split(input_data, output_data, test_size=0.2, random_state=42)"
   ]
  },
  {
   "cell_type": "code",
   "execution_count": 46,
   "id": "b6af3d7d-5cb0-462d-abd6-35cd27691686",
   "metadata": {},
   "outputs": [],
   "source": [
    "from sklearn.ensemble import RandomForestRegressor\n",
    "from sklearn.metrics import mean_squared_error, mean_absolute_error"
   ]
  },
  {
   "cell_type": "code",
   "execution_count": 47,
   "id": "20b497e7-ddf3-4f13-8e71-7247c244b5e2",
   "metadata": {},
   "outputs": [
    {
     "data": {
      "text/plain": [
       "(98.3253608048349, 96.72532286508341)"
      ]
     },
     "execution_count": 47,
     "metadata": {},
     "output_type": "execute_result"
    }
   ],
   "source": [
    "rf = RandomForestRegressor(n_estimators = 100)\n",
    "rf.fit(x_train, y_train)\n",
    "rf.score(x_train, y_train)*100 , rf.score(x_test, y_test)*100"
   ]
  },
  {
   "cell_type": "code",
   "execution_count": 49,
   "id": "687492cf-2232-4d88-ba34-e739db81b92a",
   "metadata": {},
   "outputs": [
    {
     "data": {
      "text/plain": [
       "(0.7543410191803286, 0.5708147540983609)"
      ]
     },
     "execution_count": 49,
     "metadata": {},
     "output_type": "execute_result"
    }
   ],
   "source": [
    "mean_squared_error(y_test, rf.predict(x_test)), mean_absolute_error(y_test, rf.predict(x_test))"
   ]
  },
  {
   "cell_type": "code",
   "execution_count": null,
   "id": "b5699143-4f64-4b47-aa81-af1eb8f11c91",
   "metadata": {},
   "outputs": [],
   "source": [
    "# Prediction Model"
   ]
  },
  {
   "cell_type": "code",
   "execution_count": 51,
   "id": "e944a6e7-01f4-4079-8159-dce731d62cdf",
   "metadata": {},
   "outputs": [
    {
     "data": {
      "text/html": [
       "<div>\n",
       "<style scoped>\n",
       "    .dataframe tbody tr th:only-of-type {\n",
       "        vertical-align: middle;\n",
       "    }\n",
       "\n",
       "    .dataframe tbody tr th {\n",
       "        vertical-align: top;\n",
       "    }\n",
       "\n",
       "    .dataframe thead th {\n",
       "        text-align: right;\n",
       "    }\n",
       "</style>\n",
       "<table border=\"1\" class=\"dataframe\">\n",
       "  <thead>\n",
       "    <tr style=\"text-align: right;\">\n",
       "      <th></th>\n",
       "      <th>Car_Name</th>\n",
       "      <th>Year</th>\n",
       "      <th>Present_Price</th>\n",
       "      <th>Kms_Driven</th>\n",
       "      <th>Fuel_Type</th>\n",
       "      <th>Seller_Type</th>\n",
       "      <th>Transmission</th>\n",
       "      <th>Owner</th>\n",
       "    </tr>\n",
       "  </thead>\n",
       "  <tbody>\n",
       "    <tr>\n",
       "      <th>177</th>\n",
       "      <td>-1.275759</td>\n",
       "      <td>0.821718</td>\n",
       "      <td>-0.817924</td>\n",
       "      <td>-0.333500</td>\n",
       "      <td>0.500183</td>\n",
       "      <td>1.356327</td>\n",
       "      <td>-2.554408</td>\n",
       "      <td>-0.174501</td>\n",
       "    </tr>\n",
       "    <tr>\n",
       "      <th>289</th>\n",
       "      <td>0.251795</td>\n",
       "      <td>0.821718</td>\n",
       "      <td>0.691970</td>\n",
       "      <td>-0.668875</td>\n",
       "      <td>0.500183</td>\n",
       "      <td>-0.737285</td>\n",
       "      <td>0.391480</td>\n",
       "      <td>-0.174501</td>\n",
       "    </tr>\n",
       "    <tr>\n",
       "      <th>228</th>\n",
       "      <td>1.230996</td>\n",
       "      <td>-0.563924</td>\n",
       "      <td>0.205282</td>\n",
       "      <td>0.593804</td>\n",
       "      <td>-1.852241</td>\n",
       "      <td>-0.737285</td>\n",
       "      <td>0.391480</td>\n",
       "      <td>-0.174501</td>\n",
       "    </tr>\n",
       "    <tr>\n",
       "      <th>198</th>\n",
       "      <td>-2.059120</td>\n",
       "      <td>-0.910335</td>\n",
       "      <td>-0.817924</td>\n",
       "      <td>-0.050157</td>\n",
       "      <td>0.500183</td>\n",
       "      <td>1.356327</td>\n",
       "      <td>0.391480</td>\n",
       "      <td>3.865859</td>\n",
       "    </tr>\n",
       "    <tr>\n",
       "      <th>60</th>\n",
       "      <td>0.330131</td>\n",
       "      <td>-0.217514</td>\n",
       "      <td>1.272521</td>\n",
       "      <td>0.078661</td>\n",
       "      <td>0.500183</td>\n",
       "      <td>-0.737285</td>\n",
       "      <td>0.391480</td>\n",
       "      <td>-0.174501</td>\n",
       "    </tr>\n",
       "    <tr>\n",
       "      <th>...</th>\n",
       "      <td>...</td>\n",
       "      <td>...</td>\n",
       "      <td>...</td>\n",
       "      <td>...</td>\n",
       "      <td>...</td>\n",
       "      <td>...</td>\n",
       "      <td>...</td>\n",
       "      <td>...</td>\n",
       "    </tr>\n",
       "    <tr>\n",
       "      <th>234</th>\n",
       "      <td>0.760979</td>\n",
       "      <td>0.475308</td>\n",
       "      <td>-0.223468</td>\n",
       "      <td>-0.835995</td>\n",
       "      <td>0.500183</td>\n",
       "      <td>-0.737285</td>\n",
       "      <td>0.391480</td>\n",
       "      <td>-0.174501</td>\n",
       "    </tr>\n",
       "    <tr>\n",
       "      <th>296</th>\n",
       "      <td>0.251795</td>\n",
       "      <td>0.821718</td>\n",
       "      <td>0.460214</td>\n",
       "      <td>-0.076225</td>\n",
       "      <td>-1.852241</td>\n",
       "      <td>-0.737285</td>\n",
       "      <td>0.391480</td>\n",
       "      <td>-0.174501</td>\n",
       "    </tr>\n",
       "    <tr>\n",
       "      <th>281</th>\n",
       "      <td>0.251795</td>\n",
       "      <td>-2.642389</td>\n",
       "      <td>-0.003299</td>\n",
       "      <td>0.347965</td>\n",
       "      <td>0.500183</td>\n",
       "      <td>-0.737285</td>\n",
       "      <td>0.391480</td>\n",
       "      <td>-0.174501</td>\n",
       "    </tr>\n",
       "    <tr>\n",
       "      <th>285</th>\n",
       "      <td>0.956819</td>\n",
       "      <td>0.821718</td>\n",
       "      <td>0.100991</td>\n",
       "      <td>-0.563806</td>\n",
       "      <td>0.500183</td>\n",
       "      <td>-0.737285</td>\n",
       "      <td>-2.554408</td>\n",
       "      <td>-0.174501</td>\n",
       "    </tr>\n",
       "    <tr>\n",
       "      <th>182</th>\n",
       "      <td>-1.158255</td>\n",
       "      <td>-0.217514</td>\n",
       "      <td>-0.816765</td>\n",
       "      <td>-0.178949</td>\n",
       "      <td>0.500183</td>\n",
       "      <td>1.356327</td>\n",
       "      <td>0.391480</td>\n",
       "      <td>-0.174501</td>\n",
       "    </tr>\n",
       "  </tbody>\n",
       "</table>\n",
       "<p>61 rows × 8 columns</p>\n",
       "</div>"
      ],
      "text/plain": [
       "     Car_Name      Year  Present_Price  Kms_Driven  Fuel_Type  Seller_Type  \\\n",
       "177 -1.275759  0.821718      -0.817924   -0.333500   0.500183     1.356327   \n",
       "289  0.251795  0.821718       0.691970   -0.668875   0.500183    -0.737285   \n",
       "228  1.230996 -0.563924       0.205282    0.593804  -1.852241    -0.737285   \n",
       "198 -2.059120 -0.910335      -0.817924   -0.050157   0.500183     1.356327   \n",
       "60   0.330131 -0.217514       1.272521    0.078661   0.500183    -0.737285   \n",
       "..        ...       ...            ...         ...        ...          ...   \n",
       "234  0.760979  0.475308      -0.223468   -0.835995   0.500183    -0.737285   \n",
       "296  0.251795  0.821718       0.460214   -0.076225  -1.852241    -0.737285   \n",
       "281  0.251795 -2.642389      -0.003299    0.347965   0.500183    -0.737285   \n",
       "285  0.956819  0.821718       0.100991   -0.563806   0.500183    -0.737285   \n",
       "182 -1.158255 -0.217514      -0.816765   -0.178949   0.500183     1.356327   \n",
       "\n",
       "     Transmission     Owner  \n",
       "177     -2.554408 -0.174501  \n",
       "289      0.391480 -0.174501  \n",
       "228      0.391480 -0.174501  \n",
       "198      0.391480  3.865859  \n",
       "60       0.391480 -0.174501  \n",
       "..            ...       ...  \n",
       "234      0.391480 -0.174501  \n",
       "296      0.391480 -0.174501  \n",
       "281      0.391480 -0.174501  \n",
       "285     -2.554408 -0.174501  \n",
       "182      0.391480 -0.174501  \n",
       "\n",
       "[61 rows x 8 columns]"
      ]
     },
     "execution_count": 51,
     "metadata": {},
     "output_type": "execute_result"
    }
   ],
   "source": [
    "x_test"
   ]
  },
  {
   "cell_type": "code",
   "execution_count": 52,
   "id": "fa0cca6e-400e-46c1-ac55-e91228c936ac",
   "metadata": {},
   "outputs": [
    {
     "name": "stderr",
     "output_type": "stream",
     "text": [
      "C:\\ProgramData\\anaconda3\\Lib\\site-packages\\sklearn\\base.py:439: UserWarning: X does not have valid feature names, but RandomForestRegressor was fitted with feature names\n",
      "  warnings.warn(\n"
     ]
    },
    {
     "data": {
      "text/plain": [
       "array([0.4283])"
      ]
     },
     "execution_count": 52,
     "metadata": {},
     "output_type": "execute_result"
    }
   ],
   "source": [
    "rf.predict([[-1.275759,0.821718,-0.817924,-0.333500,0.500183,1.356327,-2.554408,-0.174501]])"
   ]
  },
  {
   "cell_type": "code",
   "execution_count": 53,
   "id": "2c9e591d-5333-464f-890c-2ba688337213",
   "metadata": {},
   "outputs": [
    {
     "data": {
      "text/plain": [
       "177     0.35\n",
       "289    10.11\n",
       "228     4.95\n",
       "198     0.15\n",
       "60      6.95\n",
       "       ...  \n",
       "234     5.50\n",
       "296     9.50\n",
       "281     2.10\n",
       "285     7.40\n",
       "182     0.30\n",
       "Name: Selling_Price, Length: 61, dtype: float64"
      ]
     },
     "execution_count": 53,
     "metadata": {},
     "output_type": "execute_result"
    }
   ],
   "source": [
    "y_test"
   ]
  },
  {
   "cell_type": "code",
   "execution_count": null,
   "id": "6956ee54-e4cb-416e-a29e-b750915b1432",
   "metadata": {},
   "outputs": [],
   "source": [
    "# Now predicting price of user data/ new data"
   ]
  },
  {
   "cell_type": "code",
   "execution_count": null,
   "id": "ccb62fa6-dd22-44d8-bf91-9873ffd451cc",
   "metadata": {},
   "outputs": [],
   "source": [
    "sx4\t2013\t9.54\t43000\tDiesel\tDealer\tManual\t0\t4.75"
   ]
  },
  {
   "cell_type": "code",
   "execution_count": null,
   "id": "d7dde09d-2e72-474a-91a0-32bef0a944a6",
   "metadata": {},
   "outputs": [],
   "source": [
    "# convert the provided data in dataframe"
   ]
  },
  {
   "cell_type": "code",
   "execution_count": 55,
   "id": "9ba70ece-545e-471f-944c-38d2f8592c38",
   "metadata": {},
   "outputs": [],
   "source": [
    "new_data = pd.DataFrame([[\"sx4\" ,2013, 9.54, 43000, \"Diesel\", \"Dealer\",\t\"Manual\" ,\t0]], columns = x_train.columns)"
   ]
  },
  {
   "cell_type": "code",
   "execution_count": 56,
   "id": "dbc21010-498b-4d94-a0fc-1f0c6fcb2e7f",
   "metadata": {},
   "outputs": [
    {
     "data": {
      "text/html": [
       "<div>\n",
       "<style scoped>\n",
       "    .dataframe tbody tr th:only-of-type {\n",
       "        vertical-align: middle;\n",
       "    }\n",
       "\n",
       "    .dataframe tbody tr th {\n",
       "        vertical-align: top;\n",
       "    }\n",
       "\n",
       "    .dataframe thead th {\n",
       "        text-align: right;\n",
       "    }\n",
       "</style>\n",
       "<table border=\"1\" class=\"dataframe\">\n",
       "  <thead>\n",
       "    <tr style=\"text-align: right;\">\n",
       "      <th></th>\n",
       "      <th>Car_Name</th>\n",
       "      <th>Year</th>\n",
       "      <th>Present_Price</th>\n",
       "      <th>Kms_Driven</th>\n",
       "      <th>Fuel_Type</th>\n",
       "      <th>Seller_Type</th>\n",
       "      <th>Transmission</th>\n",
       "      <th>Owner</th>\n",
       "    </tr>\n",
       "  </thead>\n",
       "  <tbody>\n",
       "    <tr>\n",
       "      <th>0</th>\n",
       "      <td>sx4</td>\n",
       "      <td>2013</td>\n",
       "      <td>9.54</td>\n",
       "      <td>43000</td>\n",
       "      <td>Diesel</td>\n",
       "      <td>Dealer</td>\n",
       "      <td>Manual</td>\n",
       "      <td>0</td>\n",
       "    </tr>\n",
       "  </tbody>\n",
       "</table>\n",
       "</div>"
      ],
      "text/plain": [
       "  Car_Name  Year  Present_Price  Kms_Driven Fuel_Type Seller_Type  \\\n",
       "0      sx4  2013           9.54       43000    Diesel      Dealer   \n",
       "\n",
       "  Transmission  Owner  \n",
       "0       Manual      0  "
      ]
     },
     "execution_count": 56,
     "metadata": {},
     "output_type": "execute_result"
    }
   ],
   "source": [
    "new_data"
   ]
  },
  {
   "cell_type": "code",
   "execution_count": null,
   "id": "fb9c0fe3-b14d-46a9-9156-5d80a59782e9",
   "metadata": {},
   "outputs": [],
   "source": [
    "# performing encoding / training the model for above data"
   ]
  },
  {
   "cell_type": "code",
   "execution_count": 65,
   "id": "667dec7c-477a-42a6-918f-3180f406030f",
   "metadata": {},
   "outputs": [],
   "source": [
    "new_data['Car_Name'] = Car_Name_le.transform(new_data[\"Car_Name\"])\n",
    "new_data['Fuel_Type'] = Fuel_Type_le.transform(new_data[\"Fuel_Type\"])\n",
    "new_data['Seller_Type'] = Seller_Type_le.transform(new_data[\"Seller_Type\"])\n",
    "new_data['Transmission'] = Transmission_le.transform(new_data[\"Transmission\"])"
   ]
  },
  {
   "cell_type": "code",
   "execution_count": null,
   "id": "8c39f986-ff34-4949-8ca8-58a27316e9c0",
   "metadata": {},
   "outputs": [],
   "source": [
    "# Now performing Scaling on above data"
   ]
  },
  {
   "cell_type": "code",
   "execution_count": 68,
   "id": "3a4ef128-5a89-415b-8d1e-0b73ab590403",
   "metadata": {},
   "outputs": [],
   "source": [
    "new_data = pd.DataFrame(ss.transform(new_data), columns=new_data.columns)"
   ]
  },
  {
   "cell_type": "code",
   "execution_count": 69,
   "id": "27002129-c000-4a66-9f7c-55ea13a72849",
   "metadata": {},
   "outputs": [
    {
     "data": {
      "text/html": [
       "<div>\n",
       "<style scoped>\n",
       "    .dataframe tbody tr th:only-of-type {\n",
       "        vertical-align: middle;\n",
       "    }\n",
       "\n",
       "    .dataframe tbody tr th {\n",
       "        vertical-align: top;\n",
       "    }\n",
       "\n",
       "    .dataframe thead th {\n",
       "        text-align: right;\n",
       "    }\n",
       "</style>\n",
       "<table border=\"1\" class=\"dataframe\">\n",
       "  <thead>\n",
       "    <tr style=\"text-align: right;\">\n",
       "      <th></th>\n",
       "      <th>Car_Name</th>\n",
       "      <th>Year</th>\n",
       "      <th>Present_Price</th>\n",
       "      <th>Kms_Driven</th>\n",
       "      <th>Fuel_Type</th>\n",
       "      <th>Seller_Type</th>\n",
       "      <th>Transmission</th>\n",
       "      <th>Owner</th>\n",
       "    </tr>\n",
       "  </thead>\n",
       "  <tbody>\n",
       "    <tr>\n",
       "      <th>0</th>\n",
       "      <td>1.191828</td>\n",
       "      <td>-0.217514</td>\n",
       "      <td>0.221505</td>\n",
       "      <td>0.155911</td>\n",
       "      <td>-1.852241</td>\n",
       "      <td>-0.737285</td>\n",
       "      <td>0.39148</td>\n",
       "      <td>-0.174501</td>\n",
       "    </tr>\n",
       "  </tbody>\n",
       "</table>\n",
       "</div>"
      ],
      "text/plain": [
       "   Car_Name      Year  Present_Price  Kms_Driven  Fuel_Type  Seller_Type  \\\n",
       "0  1.191828 -0.217514       0.221505    0.155911  -1.852241    -0.737285   \n",
       "\n",
       "   Transmission     Owner  \n",
       "0       0.39148 -0.174501  "
      ]
     },
     "execution_count": 69,
     "metadata": {},
     "output_type": "execute_result"
    }
   ],
   "source": [
    "new_data"
   ]
  },
  {
   "cell_type": "code",
   "execution_count": 70,
   "id": "32abc0e9-5a95-44a8-a794-6ddb6074e123",
   "metadata": {},
   "outputs": [
    {
     "data": {
      "text/plain": [
       "array([4.954])"
      ]
     },
     "execution_count": 70,
     "metadata": {},
     "output_type": "execute_result"
    }
   ],
   "source": [
    "rf.predict(new_data)"
   ]
  },
  {
   "cell_type": "code",
   "execution_count": null,
   "id": "18458725-92f2-4b4c-8293-d44c4b1afbfd",
   "metadata": {},
   "outputs": [],
   "source": []
  }
 ],
 "metadata": {
  "kernelspec": {
   "display_name": "Python 3 (ipykernel)",
   "language": "python",
   "name": "python3"
  },
  "language_info": {
   "codemirror_mode": {
    "name": "ipython",
    "version": 3
   },
   "file_extension": ".py",
   "mimetype": "text/x-python",
   "name": "python",
   "nbconvert_exporter": "python",
   "pygments_lexer": "ipython3",
   "version": "3.11.7"
  }
 },
 "nbformat": 4,
 "nbformat_minor": 5
}
